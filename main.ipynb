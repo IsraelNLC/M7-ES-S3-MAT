{
 "cells": [
  {
   "cell_type": "code",
   "execution_count": 73,
   "metadata": {},
   "outputs": [],
   "source": [
    "documento1 = \"O sol está brilhando no céu\"\n",
    "documento2 = \"A lua está visível durante o dia\""
   ]
  },
  {
   "cell_type": "code",
   "execution_count": 74,
   "metadata": {},
   "outputs": [
    {
     "name": "stdout",
     "output_type": "stream",
     "text": [
      "sol esta brilhando ceu\n",
      "lua esta visivel durante dia\n"
     ]
    }
   ],
   "source": [
    "import unidecode \n",
    "import re\n",
    "\n",
    "documento1 = documento1.lower()\n",
    "documento2 = documento2.lower()\n",
    "\n",
    "documento1 = unidecode.unidecode(documento1)\n",
    "documento2 = unidecode.unidecode(documento2)\n",
    "\n",
    "documento1 = re.sub(r'\\b(a|o|e|os|as|um|uns|uma|umas|de|da|do|das|dos|no|na|nos|nas|em|por|para|com|sobre|sob|ante|apos|ate|contra|desde|entre|perante|sem|tras)\\b', '', documento1)\n",
    "documento2 = re.sub(r'\\b(a|o|e|os|as|um|uns|uma|umas|de|da|do|das|dos|no|na|nos|nas|em|por|para|com|sobre|sob|ante|apos|ate|contra|desde|entre|perante|sem|tras)\\b', '', documento2)\n",
    "\n",
    "documento1 = re.sub(r'\\s+', ' ', documento1).strip()\n",
    "documento2 = re.sub(r'\\s+', ' ', documento2).strip()\n",
    "\n",
    "print(documento1)\n",
    "print(documento2)"
   ]
  },
  {
   "cell_type": "code",
   "execution_count": 75,
   "metadata": {},
   "outputs": [
    {
     "name": "stdout",
     "output_type": "stream",
     "text": [
      "sol esta brilhando ceu lua esta visivel durante dia\n"
     ]
    }
   ],
   "source": [
    "corpus = documento1 + \" \" + documento2\n",
    "print(corpus)"
   ]
  },
  {
   "cell_type": "code",
   "execution_count": 76,
   "metadata": {},
   "outputs": [
    {
     "name": "stdout",
     "output_type": "stream",
     "text": [
      "['sol', 'esta', 'brilhando', 'ceu', 'lua', 'visivel', 'durante', 'dia']\n"
     ]
    }
   ],
   "source": [
    "# vetorização\n",
    "vocabulario = []\n",
    "for palavra in corpus.split():\n",
    "    if palavra not in vocabulario:\n",
    "        vocabulario.append(palavra)\n",
    "print(vocabulario)"
   ]
  },
  {
   "cell_type": "code",
   "execution_count": 77,
   "metadata": {},
   "outputs": [
    {
     "name": "stdout",
     "output_type": "stream",
     "text": [
      "[1, 1, 1, 1, 0, 0, 0, 0]\n",
      "[0, 1, 0, 0, 1, 1, 1, 1]\n"
     ]
    }
   ],
   "source": [
    "vetor_numerico_doc_1 = []\n",
    "for palavra in vocabulario:\n",
    "    vetor_numerico_doc_1.append(documento1.split().count(palavra))\n",
    "    \n",
    "print(vetor_numerico_doc_1)\n",
    "\n",
    "vetor_numerico_doc_2 = []\n",
    "for palavra in vocabulario:\n",
    "    vetor_numerico_doc_2.append(documento2.split().count(palavra))\n",
    "\n",
    "print(vetor_numerico_doc_2)\n"
   ]
  },
  {
   "cell_type": "code",
   "execution_count": 78,
   "metadata": {},
   "outputs": [
    {
     "name": "stdout",
     "output_type": "stream",
     "text": [
      "0.22360679774997896\n"
     ]
    }
   ],
   "source": [
    "#aplicando a similaridade de cosseno\n",
    "import math\n",
    "def cosseno(vetor1, vetor2):\n",
    "    prod_escalar = 0\n",
    "    for i in range(len(vetor1)):\n",
    "        prod_escalar += vetor1[i] * vetor2[i]\n",
    "    norma_vetor1 = math.sqrt(sum([x**2 for x in vetor1]))\n",
    "    norma_vetor2 = math.sqrt(sum([x**2 for x in vetor2]))\n",
    "    return prod_escalar / (norma_vetor1 * norma_vetor2)\n",
    "\n",
    "print(cosseno(vetor_numerico_doc_1, vetor_numerico_doc_2))\n"
   ]
  },
  {
   "cell_type": "code",
   "execution_count": 79,
   "metadata": {},
   "outputs": [
    {
     "name": "stdout",
     "output_type": "stream",
     "text": [
      "[0.8, 0.5, 0.7, 0.8, 0.0, 0.0, 0.0, 0.0]\n",
      "[0.0, 0.5, 0.0, 0.0, 0.8, 0.6, 0.4, 0.7]\n"
     ]
    }
   ],
   "source": [
    "# aplicando o peso para cada palavra chave [0.8, 0.5, 0.3, 0.9, 0.7] \n",
    "\n",
    "#  ['sol', 'esta', 'brilhando', 'ceu', 'lua', 'visivel', 'durante', 'dia']\n",
    "pesos = [0.8, 0.5, 0.7, 0.8, 0.8, 0.6, 0.4, 0.7]\n",
    "vetor_ponderado_doc_1 = []\n",
    "for i in range(len(vetor_numerico_doc_1)):\n",
    "    vetor_ponderado_doc_1.append(vetor_numerico_doc_1[i] * pesos[i])\n",
    "\n",
    "print(vetor_ponderado_doc_1)\n",
    "\n",
    "vetor_ponderado_doc_2 = []\n",
    "for i in range(len(vetor_numerico_doc_2)):\n",
    "    vetor_ponderado_doc_2.append(vetor_numerico_doc_2[i] * pesos[i])\n",
    "\n",
    "print(vetor_ponderado_doc_2)"
   ]
  },
  {
   "cell_type": "code",
   "execution_count": 80,
   "metadata": {},
   "outputs": [
    {
     "name": "stdout",
     "output_type": "stream",
     "text": [
      "0.12761082708438581\n"
     ]
    }
   ],
   "source": [
    "print(cosseno(vetor_ponderado_doc_1, vetor_ponderado_doc_2))"
   ]
  }
 ],
 "metadata": {
  "kernelspec": {
   "display_name": "Python 3",
   "language": "python",
   "name": "python3"
  },
  "language_info": {
   "codemirror_mode": {
    "name": "ipython",
    "version": 3
   },
   "file_extension": ".py",
   "mimetype": "text/x-python",
   "name": "python",
   "nbconvert_exporter": "python",
   "pygments_lexer": "ipython3",
   "version": "3.11.5"
  }
 },
 "nbformat": 4,
 "nbformat_minor": 2
}
